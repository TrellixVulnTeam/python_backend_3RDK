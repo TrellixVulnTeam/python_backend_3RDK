{
 "cells": [
  {
   "cell_type": "code",
   "execution_count": 52,
   "source": [
    "def is_even(n):\r\n",
    "    if n % 2 == 0:\r\n",
    "        return True\r\n",
    "    else:\r\n",
    "        return False"
   ],
   "outputs": [],
   "metadata": {}
  },
  {
   "cell_type": "code",
   "execution_count": null,
   "source": [
    "is_even(2)"
   ],
   "outputs": [
    {
     "output_type": "execute_result",
     "data": {
      "text/plain": [
       "True"
      ]
     },
     "metadata": {},
     "execution_count": 42
    }
   ],
   "metadata": {}
  },
  {
   "cell_type": "code",
   "execution_count": null,
   "source": [
    "is_even(3)"
   ],
   "outputs": [
    {
     "output_type": "execute_result",
     "data": {
      "text/plain": [
       "False"
      ]
     },
     "metadata": {},
     "execution_count": 43
    }
   ],
   "metadata": {}
  },
  {
   "cell_type": "code",
   "execution_count": null,
   "source": [
    "# Function that is a count down\r\n",
    "\r\n",
    "my_list = [1,2,3,4,5]\r\n",
    "\r\n",
    "def countdown(n):\r\n",
    "    start = n\r\n",
    "    stop = 0\r\n",
    "    step = -1\r\n",
    "    for i in range(start, stop, step):\r\n",
    "        print(i)"
   ],
   "outputs": [],
   "metadata": {}
  },
  {
   "cell_type": "code",
   "execution_count": null,
   "source": [
    "# Function that is a count down\r\n",
    "\r\n",
    "def countdown(n):\r\n",
    "    for i in my_list[::-1]:\r\n",
    "        print(i)"
   ],
   "outputs": [],
   "metadata": {}
  },
  {
   "cell_type": "code",
   "execution_count": null,
   "source": [
    "my_list = [1,2,3,4,5]\r\n",
    "print(my_list[::-1])"
   ],
   "outputs": [
    {
     "output_type": "stream",
     "name": "stdout",
     "text": [
      "[5, 4, 3, 2, 1]\n"
     ]
    }
   ],
   "metadata": {}
  },
  {
   "cell_type": "code",
   "execution_count": null,
   "source": [
    "def say_hello():\r\n",
    "    print(\"Hello\")"
   ],
   "outputs": [],
   "metadata": {}
  },
  {
   "cell_type": "code",
   "execution_count": null,
   "source": [
    "x = say_hello()\r\n",
    "print(x)"
   ],
   "outputs": [
    {
     "output_type": "stream",
     "name": "stdout",
     "text": [
      "Hello\n",
      "None\n"
     ]
    }
   ],
   "metadata": {}
  },
  {
   "cell_type": "code",
   "execution_count": null,
   "source": [
    "x = say_hello\r\n",
    "x()"
   ],
   "outputs": [
    {
     "output_type": "stream",
     "name": "stdout",
     "text": [
      "Hello\n"
     ]
    }
   ],
   "metadata": {}
  },
  {
   "cell_type": "code",
   "execution_count": 53,
   "source": [
    "def say_hello(*args):\r\n",
    "    print(args, f\"how are you {args[0]}\")\r\n",
    "\r\n",
    "say_hello(\"tyler\", \"matt\", \"bob\", \"joan\")"
   ],
   "outputs": [
    {
     "output_type": "stream",
     "name": "stdout",
     "text": [
      "('tyler', 'matt', 'bob', 'joan') how are you tyler\n"
     ]
    }
   ],
   "metadata": {}
  },
  {
   "cell_type": "code",
   "execution_count": 54,
   "source": [
    "def myFunction(**kwargs):\r\n",
    "    #printing all values which are passed in as an argument \r\n",
    "    for key, value in kwargs.items(): \r\n",
    "        print (\"%s = %s\" %(key, value)) \r\n",
    "\r\n",
    "# Calling the Function \r\n",
    "myFunction(first_name='Tim', last_name='White', mob=99999999, age='30')"
   ],
   "outputs": [
    {
     "output_type": "stream",
     "name": "stdout",
     "text": [
      "first_name = Tim\n",
      "last_name = White\n",
      "mob = 99999999\n",
      "age = 30\n"
     ]
    }
   ],
   "metadata": {}
  },
  {
   "cell_type": "code",
   "execution_count": 58,
   "source": [
    "# Scope\r\n",
    "\r\n",
    "x = \"global\"\r\n",
    "print(\"hello from global\")\r\n",
    "\r\n",
    "def func_a():\r\n",
    "    x = \"a_scope\"\r\n",
    "    print(x)\r\n",
    "\r\n",
    "    def func_b():\r\n",
    "        nonlocal x\r\n",
    "        x = \"a_scope\"\r\n",
    "        print(x)\r\n",
    "\r\n",
    "    func_b()\r\n",
    "\r\n",
    "func_a()\r\n",
    "# func_b()"
   ],
   "outputs": [
    {
     "output_type": "stream",
     "name": "stdout",
     "text": [
      "hello from global\n",
      "a_scope\n",
      "a_scope\n"
     ]
    }
   ],
   "metadata": {}
  },
  {
   "cell_type": "code",
   "execution_count": null,
   "source": [
    "# Scope\r\n",
    "global gvar\r\n",
    "gvar = \"global\"\r\n",
    "bvar = \"something\"\r\n",
    "\r\n",
    "def func_a():\r\n",
    "    avar = \"a_local\"\r\n",
    "    print(\"hello from func_a\")\r\n",
    "\r\n",
    "\r\n",
    "    def func_b():\r\n",
    "        global bvar\r\n",
    "        bvar = \"b_local\"\r\n",
    "        print(\"hello from func_b\")\r\n",
    "\r\n",
    "    print('printing from func_a')\r\n",
    "    print(gvar)\r\n",
    "    print(avar)\r\n",
    "    func_b()\r\n",
    "    print(bvar)\r\n",
    "\r\n",
    "\r\n",
    "\r\n",
    "func_a()\r\n",
    "# func_b()"
   ],
   "outputs": [],
   "metadata": {}
  },
  {
   "cell_type": "code",
   "execution_count": 59,
   "source": [
    "sqr = lambda x: x**2\r\n",
    "cube = lambda x: x**3\r\n",
    "\r\n",
    "sqr(4)\r\n",
    "cube(4)"
   ],
   "outputs": [
    {
     "output_type": "execute_result",
     "data": {
      "text/plain": [
       "64"
      ]
     },
     "metadata": {},
     "execution_count": 59
    }
   ],
   "metadata": {}
  },
  {
   "cell_type": "code",
   "execution_count": 60,
   "source": [
    "def power(x, func):\r\n",
    "    return func(x)\r\n",
    "\r\n",
    "power(2, cube)"
   ],
   "outputs": [
    {
     "output_type": "execute_result",
     "data": {
      "text/plain": [
       "8"
      ]
     },
     "metadata": {},
     "execution_count": 60
    }
   ],
   "metadata": {}
  },
  {
   "cell_type": "code",
   "execution_count": 64,
   "source": [
    "def power(num, func):\r\n",
    "    return func(num)\r\n",
    "\r\n",
    "power(2, lambda num: num**5)"
   ],
   "outputs": [
    {
     "output_type": "execute_result",
     "data": {
      "text/plain": [
       "32"
      ]
     },
     "metadata": {},
     "execution_count": 64
    }
   ],
   "metadata": {}
  },
  {
   "cell_type": "code",
   "execution_count": null,
   "source": [
    "# Recursion\r\n",
    "def countdown(n):\r\n",
    "    for i in range(n, 0, -1):\r\n",
    "        print(i)\r\n",
    "\r\n",
    "def r_countdown(n):\r\n",
    "    print(n)\r\n",
    "    if n > 0:\r\n",
    "        r_countdown(n-1)\r\n",
    "\r\n",
    "countdown(5)\r\n",
    "r_countdown(5)"
   ],
   "outputs": [],
   "metadata": {}
  },
  {
   "cell_type": "code",
   "execution_count": null,
   "source": [
    "# Factorial\r\n",
    "\r\n",
    "def factorial(n):\r\n",
    "    if n == 1:\r\n",
    "        return 1\r\n",
    "    else:\r\n",
    "        return n * factorial(n-1)\r\n"
   ],
   "outputs": [],
   "metadata": {}
  },
  {
   "cell_type": "code",
   "execution_count": 67,
   "source": [
    "from random import choice\r\n",
    "\r\n",
    "collection = {'VENEZUELA':'CARACAS', 'CANADA':'OTTAWA'}\r\n",
    "\r\n",
    "choice(list(collection.keys()))"
   ],
   "outputs": [
    {
     "output_type": "execute_result",
     "data": {
      "text/plain": [
       "'VENEZUELA'"
      ]
     },
     "metadata": {},
     "execution_count": 67
    }
   ],
   "metadata": {}
  }
 ],
 "metadata": {
  "orig_nbformat": 4,
  "language_info": {
   "name": "python",
   "version": "3.9.6",
   "mimetype": "text/x-python",
   "codemirror_mode": {
    "name": "ipython",
    "version": 3
   },
   "pygments_lexer": "ipython3",
   "nbconvert_exporter": "python",
   "file_extension": ".py"
  },
  "kernelspec": {
   "name": "python3",
   "display_name": "Python 3.9.6 64-bit ('3.9.6': pyenv)"
  },
  "interpreter": {
   "hash": "3ba0122369721a3b600d32f86fc2a7edf6db5bbca0a69e40597a47ad0e140ee5"
  }
 },
 "nbformat": 4,
 "nbformat_minor": 2
}